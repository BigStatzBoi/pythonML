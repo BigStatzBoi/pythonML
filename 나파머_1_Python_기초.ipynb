{
  "nbformat": 4,
  "nbformat_minor": 0,
  "metadata": {
    "colab": {
      "name": "나파머 - 1. Python 기초",
      "provenance": [],
      "collapsed_sections": [],
      "authorship_tag": "ABX9TyOXtCkeAzaETCXdBF/6R8gX",
      "include_colab_link": true
    },
    "kernelspec": {
      "name": "python3",
      "display_name": "Python 3"
    },
    "language_info": {
      "name": "python"
    }
  },
  "cells": [
    {
      "cell_type": "markdown",
      "metadata": {
        "id": "view-in-github",
        "colab_type": "text"
      },
      "source": [
        "<a href=\"https://colab.research.google.com/github/BigStatzBoi/pythonML/blob/main/%EB%82%98%ED%8C%8C%EB%A8%B8_1_Python_%EA%B8%B0%EC%B4%88.ipynb\" target=\"_parent\"><img src=\"https://colab.research.google.com/assets/colab-badge.svg\" alt=\"Open In Colab\"/></a>"
      ]
    },
    {
      "cell_type": "code",
      "execution_count": null,
      "metadata": {
        "colab": {
          "base_uri": "https://localhost:8080/"
        },
        "id": "_tViAHX4-4Ia",
        "outputId": "b98ba062-9c1f-4e69-c9e9-36616fcb98f2"
      },
      "outputs": [
        {
          "output_type": "stream",
          "name": "stdout",
          "text": [
            "수를 입력하세요. :3\n",
            "결과는 홀수 입니다.\n"
          ]
        }
      ],
      "source": [
        "def holchak(x):\n",
        "  if x%2 ==0:\n",
        "    str1='짝수'\n",
        "  else:\n",
        "    str1='홀수'\n",
        "  return str1\n",
        "  \n",
        "num = int(input('수를 입력하세요. :'))\n",
        "result = holchak(num)\n",
        "print('결과는', result, '입니다.')"
      ]
    },
    {
      "cell_type": "code",
      "source": [
        "def password(x):\n",
        "  no = '1234'\n",
        "  if x == no:\n",
        "    str1='드루와'\n",
        "  else:\n",
        "    str1='fuck off'\n",
        "  return str1\n",
        "word = input('비번주세오.: ')\n",
        "password(input)"
      ],
      "metadata": {
        "colab": {
          "base_uri": "https://localhost:8080/",
          "height": 54
        },
        "id": "jyO8Lp7FDmIU",
        "outputId": "c5c03c41-5e65-4a00-d6cd-e94307fa0258"
      },
      "execution_count": null,
      "outputs": [
        {
          "name": "stdout",
          "output_type": "stream",
          "text": [
            "비번주세오.: 4343434\n"
          ]
        },
        {
          "output_type": "execute_result",
          "data": {
            "text/plain": [
              "'fuck off'"
            ],
            "application/vnd.google.colaboratory.intrinsic+json": {
              "type": "string"
            }
          },
          "metadata": {},
          "execution_count": 15
        }
      ]
    },
    {
      "cell_type": "code",
      "source": [
        ""
      ],
      "metadata": {
        "id": "vz2xqmULD84b"
      },
      "execution_count": null,
      "outputs": []
    }
  ]
}